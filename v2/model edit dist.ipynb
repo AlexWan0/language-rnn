{
 "cells": [
  {
   "cell_type": "code",
   "execution_count": 1,
   "id": "fbe02ac3",
   "metadata": {},
   "outputs": [],
   "source": [
    "import torch\n",
    "torch.manual_seed(0)\n",
    "\n",
    "import random\n",
    "random.seed(0)\n",
    "\n",
    "import numpy as np\n",
    "np.random.seed(0)"
   ]
  },
  {
   "cell_type": "code",
   "execution_count": 2,
   "id": "92938505",
   "metadata": {},
   "outputs": [],
   "source": [
    "PRINT_GT = False"
   ]
  },
  {
   "cell_type": "code",
   "execution_count": 3,
   "id": "ee8fcbf3",
   "metadata": {},
   "outputs": [],
   "source": [
    "def load(fn):\n",
    "    with open(fn, 'r') as file_in:\n",
    "        return file_in.read().split('\\n')"
   ]
  },
  {
   "cell_type": "code",
   "execution_count": 4,
   "id": "b85bd020",
   "metadata": {},
   "outputs": [],
   "source": [
    "def repl_t(text):\n",
    "    text = text.replace('(t1)', '(x1)')\n",
    "    text = text.replace('(t2)', '(x2)')\n",
    "    text = text.replace('(t1,t2)', '(x1,x2)')\n",
    "    return text"
   ]
  },
  {
   "cell_type": "code",
   "execution_count": 5,
   "id": "73d97eef",
   "metadata": {},
   "outputs": [],
   "source": [
    "id_pairs = [[int(x) for x in l.split('\\t')] for l in load('id_pairs_2.txt') if l != '']\n",
    "sid2uids = {}\n",
    "\n",
    "for s, u in id_pairs:\n",
    "    if s not in sid2uids:\n",
    "        sid2uids[s] = []\n",
    "    sid2uids[s].append(u)"
   ]
  },
  {
   "cell_type": "code",
   "execution_count": 6,
   "id": "d6f36a6f",
   "metadata": {},
   "outputs": [],
   "source": [
    "situations = [[int(l.split('\\t')[0]), l.split('\\t')[1]] for l in load('situations_2.txt') if l != '']"
   ]
  },
  {
   "cell_type": "code",
   "execution_count": 7,
   "id": "0cdf332f",
   "metadata": {},
   "outputs": [],
   "source": [
    "utterances = [[int(l.split('\\t')[0]), l.split('\\t')[1]] for l in load('utterances_2.txt') if l != '']"
   ]
  },
  {
   "cell_type": "code",
   "execution_count": 8,
   "id": "935ccf1c",
   "metadata": {
    "scrolled": true
   },
   "outputs": [
    {
     "data": {
      "text/plain": [
       "12"
      ]
     },
     "execution_count": 8,
     "metadata": {},
     "output_type": "execute_result"
    }
   ],
   "source": [
    "max([len(u[1].split(' ')) for u in utterances])"
   ]
  },
  {
   "cell_type": "code",
   "execution_count": 9,
   "id": "81c08f9c",
   "metadata": {},
   "outputs": [],
   "source": [
    "sit2id = {s[1]: s[0] for s in situations}"
   ]
  },
  {
   "cell_type": "code",
   "execution_count": 10,
   "id": "b1e27dfc",
   "metadata": {},
   "outputs": [],
   "source": [
    "train_sit = [l.split('\\t')[0] for l in load('training_set.txt')]\n",
    "valid_sit = [l.split('\\t')[0] for l in load('test_set.txt')]"
   ]
  },
  {
   "cell_type": "code",
   "execution_count": 11,
   "id": "2acd6c63",
   "metadata": {
    "scrolled": true
   },
   "outputs": [],
   "source": [
    "train_sit_id = [sit2id[repl_t(s)] for s in train_sit if s != '']\n",
    "valid_sit_id = [sit2id[repl_t(s)] for s in valid_sit if s != '']"
   ]
  },
  {
   "cell_type": "code",
   "execution_count": 12,
   "id": "1b5a49f1",
   "metadata": {},
   "outputs": [],
   "source": [
    "import torch.nn.functional as F\n",
    "import torch\n",
    "\n",
    "class Vocab():\n",
    "    def __init__(self):\n",
    "        self.vocab = {}\n",
    "        self.invert = {}\n",
    "        self.len = 0\n",
    "    \n",
    "    def update(self, text, verbose=False):\n",
    "        for char in text:\n",
    "            if char not in self.vocab:\n",
    "                self.vocab[char] = self.len\n",
    "                self.invert[self.len] = char\n",
    "                self.len += 1\n",
    "                if verbose:\n",
    "                    print('vocab size:', self.len, char)\n",
    "    \n",
    "    def tokenize(self, text):\n",
    "        return torch.tensor([self.vocab[c] for c in text])\n",
    "    \n",
    "    def tokenize_oh(self, text):\n",
    "        return F.one_hot(self.tokenize(text), num_classes=len(self))\n",
    "    \n",
    "    def decode(self, ids):\n",
    "        return [self.invert[x.item()] for x in ids]\n",
    "    \n",
    "    def __len__(self):\n",
    "        return self.len"
   ]
  },
  {
   "cell_type": "code",
   "execution_count": 13,
   "id": "a9a8d0bb",
   "metadata": {},
   "outputs": [],
   "source": [
    "import re\n",
    "\n",
    "class PhraseVocab(Vocab):\n",
    "    def __init__(self):\n",
    "        self.vocab = {}\n",
    "        self.invert = {}\n",
    "        self.len = 0\n",
    "        self.split_chars = [' ', ')', '(', ',']\n",
    "        \n",
    "    def split(self, text):\n",
    "        for s in self.split_chars:\n",
    "            text = text.replace(s, self.split_chars[0])\n",
    "        text_tokens = text.split(self.split_chars[0])\n",
    "        return text_tokens\n",
    "    \n",
    "    def update(self, text, verbose=True):\n",
    "        text_tokens = self.split(text)\n",
    "        for token in text_tokens:\n",
    "            if token not in self.vocab:\n",
    "                self.vocab[token] = self.len\n",
    "                self.invert[self.len] = token\n",
    "                self.len += 1\n",
    "                if verbose:\n",
    "                    print('vocab size:', self.len, token)\n",
    "    \n",
    "    def tokenize(self, text):\n",
    "        return torch.tensor([self.vocab[c] for c in self.split(text)])\n",
    "    \n",
    "    def tokenize_oh(self, text):\n",
    "        return F.one_hot(self.tokenize(text), num_classes=len(self))\n",
    "    \n",
    "    def decode(self, ids):\n",
    "        result = []\n",
    "        \n",
    "        for x in ids:\n",
    "            if torch.is_tensor(x):\n",
    "                x = x.item()\n",
    "            result.append(self.invert[x])\n",
    "\n",
    "        return result"
   ]
  },
  {
   "cell_type": "code",
   "execution_count": 14,
   "id": "ebd7de6a",
   "metadata": {},
   "outputs": [],
   "source": [
    "type_dict = {\n",
    "    'shapes': ['ellipse', 'star', 'circle', 'square', 'hexagon', 'triangle']\n",
    "}\n",
    "\n",
    "def count_types(text, type_name):\n",
    "    count = 0\n",
    "    for tn in type_dict[type_name]:\n",
    "        count += text.count(tn)\n",
    "    return count"
   ]
  },
  {
   "cell_type": "code",
   "execution_count": 15,
   "id": "b211cff4",
   "metadata": {
    "scrolled": true
   },
   "outputs": [
    {
     "name": "stdout",
     "output_type": "stream",
     "text": [
      "vocab size: 1 bi1\n",
      "vocab size: 2 x1\n",
      "vocab size: 3 \n",
      "vocab size: 4 bl1\n",
      "vocab size: 5 st1\n",
      "vocab size: 6 ab2\n",
      "vocab size: 7 x2\n",
      "vocab size: 8 me1\n",
      "vocab size: 9 gr1\n",
      "vocab size: 10 sq1\n",
      "vocab size: 11 pu1\n",
      "vocab size: 12 or1\n",
      "vocab size: 13 sm1\n",
      "vocab size: 14 ci1\n",
      "vocab size: 15 le2\n",
      "vocab size: 16 tr1\n",
      "vocab size: 17 re1\n",
      "vocab size: 18 he1\n",
      "vocab size: 19 el1\n",
      "vocab size: 20 ye1\n",
      "vocab size: 1 the\n",
      "vocab size: 2 star\n",
      "vocab size: 3 big\n",
      "vocab size: 4 blue\n",
      "vocab size: 5 above\n",
      "vocab size: 6 medium\n",
      "vocab size: 7 green\n",
      "vocab size: 8 square\n",
      "vocab size: 9 below\n",
      "vocab size: 10 purple\n",
      "vocab size: 11 orange\n",
      "vocab size: 12 small\n",
      "vocab size: 13 circle\n",
      "vocab size: 14 to\n",
      "vocab size: 15 left\n",
      "vocab size: 16 of\n",
      "vocab size: 17 triangle\n",
      "vocab size: 18 right\n",
      "vocab size: 19 red\n",
      "vocab size: 20 hexagon\n",
      "vocab size: 21 ellipse\n",
      "vocab size: 22 yellow\n"
     ]
    }
   ],
   "source": [
    "v1 = PhraseVocab()\n",
    "v2 = PhraseVocab()\n",
    "for s in [s[1] for s in situations]:\n",
    "    v1.update(s)\n",
    "\n",
    "for u in [u[1] for u in utterances]:\n",
    "    v2.update(u)"
   ]
  },
  {
   "cell_type": "code",
   "execution_count": 16,
   "id": "bc6d10a7",
   "metadata": {
    "scrolled": true
   },
   "outputs": [
    {
     "name": "stdout",
     "output_type": "stream",
     "text": [
      "vocab size: 23 !\n",
      "vocab size: 24 ^\n",
      "vocab size: 21 !\n",
      "vocab size: 22 ^\n"
     ]
    }
   ],
   "source": [
    "v2.update('!')\n",
    "v2.update('^')\n",
    "v1.update('!')\n",
    "v1.update('^')"
   ]
  },
  {
   "cell_type": "code",
   "execution_count": 17,
   "id": "0e978870",
   "metadata": {},
   "outputs": [],
   "source": [
    "def id_select(ids, targets):\n",
    "    result = []\n",
    "    for target_id in ids:\n",
    "        result.append(targets[target_id - 1][1])\n",
    "    return result"
   ]
  },
  {
   "cell_type": "code",
   "execution_count": 18,
   "id": "6a9841d7",
   "metadata": {},
   "outputs": [],
   "source": [
    "import torch.nn as nn\n",
    "\n",
    "class RNNEnc(nn.Module):\n",
    "    def __init__(self, input_size=300, hidden_size=300):\n",
    "        super().__init__()\n",
    "        \n",
    "        self.input_size = input_size\n",
    "        self.hidden_size = hidden_size\n",
    "        self.rnn_enc = nn.RNN(input_size=self.input_size, hidden_size=self.hidden_size, num_layers=1)\n",
    "        \n",
    "        #self.lin_input = nn.Linear(30, 128)\n",
    "        self.embed = nn.Embedding(len(v1), self.input_size)\n",
    "    \n",
    "        self.relu = nn.ReLU()\n",
    "    \n",
    "        self.enc_lin = nn.Linear(self.hidden_size, self.hidden_size)\n",
    "    \n",
    "    def forward(self, x): # seq_length\n",
    "        x = self.embed(x).unsqueeze(1) # seq_length x 1 x 128\n",
    "        #x = self.relu(x)\n",
    "        \n",
    "        h0 = torch.zeros((1, 1, self.hidden_size))\n",
    "        \n",
    "        enc_out, enc_hidden = self.rnn_enc(x, h0)\n",
    "        # enc_out: seq_length x 1 x 128\n",
    "        # enc_hidden: 1 x 1 x 128\n",
    "        \n",
    "        #enc_out = self.enc_lin(enc_out.squeeze(1))\n",
    "        #enc_out = self.relu(enc_out) # seq_length x 300\n",
    "        \n",
    "        enc_out = enc_out.squeeze(1)\n",
    "        \n",
    "        return enc_out, enc_hidden"
   ]
  },
  {
   "cell_type": "code",
   "execution_count": 19,
   "id": "8e226fb5",
   "metadata": {},
   "outputs": [],
   "source": [
    "class RNNDec(nn.Module):\n",
    "    def __init__(self, embed, input_size=(300), hidden_size=300, max_length=24):\n",
    "        super().__init__()\n",
    "        \n",
    "        self.max_length = max_length\n",
    "        \n",
    "        self.input_size = input_size\n",
    "        self.hidden_size = hidden_size\n",
    "        self.rnn_dec = nn.RNN(input_size=self.input_size, hidden_size=self.hidden_size, num_layers=1)\n",
    "        \n",
    "        self.attn = nn.Linear(self.hidden_size * 2, self.max_length)\n",
    "        self.attn_combine = nn.Linear(self.hidden_size * 2, self.hidden_size)\n",
    "        \n",
    "        self.lin_output = nn.Linear(self.hidden_size, len(v2))\n",
    "        #self.lin_hidden = nn.Linear(256, 128)\n",
    "        self.embed = nn.Embedding(len(v2), 300)\n",
    "        \n",
    "        self.softmax = nn.Softmax(dim=1)\n",
    "        self.relu = nn.ReLU()\n",
    "        self.dropout = nn.Dropout(p=0.1)\n",
    "        \n",
    "    def forward(self, x, enc_hidden, h, enc_out):\n",
    "        # x: 1\n",
    "        # h: 1 x 1 x 300\n",
    "        x = self.embed(x).reshape(1, -1) # 1 x 300\n",
    "        x = self.dropout(x)\n",
    "        \n",
    "        #enc_hidden = self.lin_hidden(enc_hidden)\n",
    "        #enc_hidden = self.relu(enc_hidden)\n",
    "        \n",
    "        #print(torch.cat((x[0], enc_hidden[0]), dim=1).shape)\n",
    "        \n",
    "        attn_weights = F.softmax(self.attn(torch.cat((x, enc_hidden[0]), dim=1)), dim=1) # 1 x max_length\n",
    "        \n",
    "        #seq_length = enc_out.shape[0]\n",
    "        #attn_weights = attn_weights[:, :seq_length] # 1 x seq_length\n",
    "        \n",
    "        attn_applied = torch.mm(attn_weights, enc_out) # (1 x seq_length) x (seq_length x 300) = (1 x 300)\n",
    "        \n",
    "        rnn_in = torch.cat((x, attn_applied), dim=1)\n",
    "        rnn_in = self.attn_combine(rnn_in).unsqueeze(0)\n",
    "        rnn_in = F.relu(rnn_in)\n",
    "        \n",
    "        dec_out, dec_hidden = self.rnn_dec(rnn_in, h)\n",
    "        # dec_out: 1 x 1 x 300\n",
    "        # dec_hidden: 1 x 1 x 300\n",
    "        \n",
    "        logits = self.lin_output(dec_out[0]) # 1 x 30\n",
    "        \n",
    "        #probs = self.softmax(logits)\n",
    "        \n",
    "        return logits, dec_hidden"
   ]
  },
  {
   "cell_type": "code",
   "execution_count": 20,
   "id": "de02ad28",
   "metadata": {},
   "outputs": [],
   "source": [
    "from torch import optim\n",
    "\n",
    "eos_id = v2.tokenize('!')[0]\n",
    "start_id = v2.tokenize('^')[0]\n",
    "\n",
    "enc = RNNEnc()\n",
    "dec = RNNDec(enc.embed)\n",
    "\n",
    "opt_enc = optim.Adam(enc.parameters(), lr=3e-4)\n",
    "opt_dec = optim.Adam(dec.parameters(), lr=3e-4)\n",
    "\n",
    "ce_loss = nn.CrossEntropyLoss()"
   ]
  },
  {
   "cell_type": "code",
   "execution_count": 21,
   "id": "6778b139",
   "metadata": {},
   "outputs": [],
   "source": [
    "force_p = [0.0]\n",
    "def force_p_schedule(epoch_idx):\n",
    "    if epoch_idx >= len(force_p):\n",
    "        return force_p[-1]\n",
    "    return force_p[epoch_idx]"
   ]
  },
  {
   "cell_type": "code",
   "execution_count": 22,
   "id": "0c0cc154",
   "metadata": {},
   "outputs": [],
   "source": [
    "%load_ext autoreload\n",
    "%autoreload 2"
   ]
  },
  {
   "cell_type": "code",
   "execution_count": 23,
   "id": "4e1c44a0",
   "metadata": {},
   "outputs": [],
   "source": [
    "from plotter import Plotter\n",
    "plot = Plotter()"
   ]
  },
  {
   "cell_type": "code",
   "execution_count": 24,
   "id": "5e5f4ef3",
   "metadata": {},
   "outputs": [],
   "source": [
    "validspl_sit_id = valid_sit_id\n",
    "trainspl_sit_id = train_sit_id"
   ]
  },
  {
   "cell_type": "code",
   "execution_count": 25,
   "id": "0e6e5341",
   "metadata": {},
   "outputs": [],
   "source": [
    "from jellyfish import jaro_similarity"
   ]
  },
  {
   "cell_type": "code",
   "execution_count": 26,
   "id": "feb86ace",
   "metadata": {},
   "outputs": [],
   "source": [
    "def model_forward(input_sit_str, epoch_idx, grad=True, max_length=13):\n",
    "    input_sit = v1.tokenize(input_sit_str)\n",
    "\n",
    "    if grad:\n",
    "        enc_out, enc_hidden = enc(input_sit)\n",
    "    else:\n",
    "        with torch.no_grad():\n",
    "            enc_out, enc_hidden = enc(input_sit)\n",
    "\n",
    "    pred_ids = []\n",
    "    pred_logits = []\n",
    "    \n",
    "    prev = start_id\n",
    "    h = enc_hidden\n",
    "    for i in range(max_length):\n",
    "        if grad:\n",
    "            logits, h = dec(prev, enc_hidden, h, enc_out)\n",
    "        else:\n",
    "            with torch.no_grad():\n",
    "                logits, h = dec(prev, enc_hidden, h, enc_out)\n",
    "\n",
    "        pred = torch.argmax(logits, dim=1)[0]\n",
    "        prev = pred\n",
    "        \n",
    "        pred_ids.append(pred)\n",
    "        pred_logits.append(logits)\n",
    "        \n",
    "        #print(logits[0], tu_target[i])\n",
    "\n",
    "        #loss += ce_loss(logits, tu_target[i].unsqueeze(0))\n",
    "\n",
    "        if pred == eos_id:\n",
    "            break\n",
    "    \n",
    "    return pred_ids, pred_logits"
   ]
  },
  {
   "cell_type": "code",
   "execution_count": 27,
   "id": "fd0e9675",
   "metadata": {},
   "outputs": [],
   "source": [
    "class RunningAvg:\n",
    "    def __init__(self, buffer_size, default=None):\n",
    "        self.buffer = [default] * buffer_size\n",
    "        self.idx = 0\n",
    "        self.buffer_size = buffer_size\n",
    "    \n",
    "    def __call__(self, x):\n",
    "        self.buffer[self.idx % self.buffer_size] = x\n",
    "        self.idx += 1\n",
    "        return self.none_avg()\n",
    "    \n",
    "    def none_avg(self):\n",
    "        return sum([b for b in self.buffer if b != None])/self.buffer_size"
   ]
  },
  {
   "cell_type": "code",
   "execution_count": 28,
   "id": "ffadd919",
   "metadata": {},
   "outputs": [],
   "source": [
    "train_edit_run = RunningAvg(10)\n",
    "train_loss_run = RunningAvg(10)"
   ]
  },
  {
   "cell_type": "code",
   "execution_count": 29,
   "id": "dc000e97",
   "metadata": {},
   "outputs": [],
   "source": [
    "from nltk.metrics.distance import edit_distance\n",
    "\n",
    "def closest_loss(cleaned_pred, pred_logits, target_utters):\n",
    "    # get label\n",
    "    utter_dists = [(-edit_distance(t, cleaned_pred), t) for t in target_utters]\n",
    "    utter_closest = max(utter_dists, key=lambda x:x[0])[1] + ' !'\n",
    "\n",
    "    if PRINT_GT:\n",
    "        print(utter_closest, cleaned_pred, '\\n')\n",
    "    \n",
    "    #print(utter_closest, '|', ' '.join(v.decode(pred_ids)))\n",
    "\n",
    "    tu_target = v2.tokenize(utter_closest)\n",
    "\n",
    "    # get loss\n",
    "    loss = 0.0\n",
    "    for tkn_idx in range(min(len(pred_logits), len(tu_target))):\n",
    "        loss += ce_loss(pred_logits[tkn_idx], tu_target[tkn_idx].unsqueeze(0))\n",
    "    \n",
    "    return loss, utter_closest"
   ]
  },
  {
   "cell_type": "code",
   "execution_count": 30,
   "id": "bccd7c75",
   "metadata": {},
   "outputs": [],
   "source": [
    "update_every = False\n",
    "def is_correct(pred, targets):\n",
    "    if pred in targets and not update_every:\n",
    "        return 0.0\n",
    "    return 1.0"
   ]
  },
  {
   "cell_type": "code",
   "execution_count": 31,
   "id": "c28c31e4",
   "metadata": {
    "scrolled": true
   },
   "outputs": [
    {
     "data": {
      "application/vnd.jupyter.widget-view+json": {
       "model_id": "e1a58d91166b4126acea9ba5d07620b3",
       "version_major": 2,
       "version_minor": 0
      },
      "text/plain": [
       "  0%|          | 0/18000 [00:00<?, ?it/s]"
      ]
     },
     "metadata": {},
     "output_type": "display_data"
    },
    {
     "name": "stdout",
     "output_type": "stream",
     "text": [
      "force_p: 0.0\n"
     ]
    },
    {
     "data": {
      "image/png": "[encoded data removed]",
      "text/plain": [
       "<Figure size 1080x1080 with 4 Axes>"
      ]
     },
     "metadata": {
      "needs_background": "light"
     },
     "output_type": "display_data"
    },
    {
     "data": {
      "application/vnd.jupyter.widget-view+json": {
       "model_id": "ee0aef92a65c4388885724c92b6e1324",
       "version_major": 2,
       "version_minor": 0
      },
      "text/plain": [
       "  0%|          | 0/5000 [00:00<?, ?it/s]"
      ]
     },
     "metadata": {},
     "output_type": "display_data"
    },
    {
     "ename": "KeyboardInterrupt",
     "evalue": "",
     "output_type": "error",
     "traceback": [
      "\u001b[0;31m---------------------------------------------------------------------------\u001b[0m",
      "\u001b[0;31mKeyboardInterrupt\u001b[0m                         Traceback (most recent call last)",
      "\u001b[0;32m<ipython-input-31-41018fb0c270>\u001b[0m in \u001b[0;36m<module>\u001b[0;34m\u001b[0m\n\u001b[1;32m    105\u001b[0m                 \u001b[0;31m#avg_valid_edit += jaro_similarity(tu.replace('!', '').strip(), cleaned_pred)\u001b[0m\u001b[0;34m\u001b[0m\u001b[0;34m\u001b[0m\u001b[0;34m\u001b[0m\u001b[0m\n\u001b[1;32m    106\u001b[0m \u001b[0;34m\u001b[0m\u001b[0m\n\u001b[0;32m--> 107\u001b[0;31m                 \u001b[0mloss\u001b[0m\u001b[0;34m,\u001b[0m \u001b[0mutter_closest\u001b[0m \u001b[0;34m=\u001b[0m \u001b[0mclosest_loss\u001b[0m\u001b[0;34m(\u001b[0m\u001b[0mcleaned_pred\u001b[0m\u001b[0;34m,\u001b[0m \u001b[0mpred_logits\u001b[0m\u001b[0;34m,\u001b[0m \u001b[0mtarget_utters\u001b[0m\u001b[0;34m)\u001b[0m\u001b[0;34m\u001b[0m\u001b[0;34m\u001b[0m\u001b[0m\n\u001b[0m\u001b[1;32m    108\u001b[0m                 \u001b[0mavg_valid_loss\u001b[0m \u001b[0;34m+=\u001b[0m \u001b[0mloss\u001b[0m\u001b[0;34m.\u001b[0m\u001b[0mitem\u001b[0m\u001b[0;34m(\u001b[0m\u001b[0;34m)\u001b[0m\u001b[0;34m/\u001b[0m\u001b[0mlen\u001b[0m\u001b[0;34m(\u001b[0m\u001b[0mpred_ids\u001b[0m\u001b[0;34m)\u001b[0m\u001b[0;34m\u001b[0m\u001b[0;34m\u001b[0m\u001b[0m\n\u001b[1;32m    109\u001b[0m \u001b[0;34m\u001b[0m\u001b[0m\n",
      "\u001b[0;32m<ipython-input-29-57ccee8edc8c>\u001b[0m in \u001b[0;36mclosest_loss\u001b[0;34m(cleaned_pred, pred_logits, target_utters)\u001b[0m\n\u001b[1;32m      3\u001b[0m \u001b[0;32mdef\u001b[0m \u001b[0mclosest_loss\u001b[0m\u001b[0;34m(\u001b[0m\u001b[0mcleaned_pred\u001b[0m\u001b[0;34m,\u001b[0m \u001b[0mpred_logits\u001b[0m\u001b[0;34m,\u001b[0m \u001b[0mtarget_utters\u001b[0m\u001b[0;34m)\u001b[0m\u001b[0;34m:\u001b[0m\u001b[0;34m\u001b[0m\u001b[0;34m\u001b[0m\u001b[0m\n\u001b[1;32m      4\u001b[0m     \u001b[0;31m# get label\u001b[0m\u001b[0;34m\u001b[0m\u001b[0;34m\u001b[0m\u001b[0;34m\u001b[0m\u001b[0m\n\u001b[0;32m----> 5\u001b[0;31m     \u001b[0mutter_dists\u001b[0m \u001b[0;34m=\u001b[0m \u001b[0;34m[\u001b[0m\u001b[0;34m(\u001b[0m\u001b[0;34m-\u001b[0m\u001b[0medit_distance\u001b[0m\u001b[0;34m(\u001b[0m\u001b[0mt\u001b[0m\u001b[0;34m,\u001b[0m \u001b[0mcleaned_pred\u001b[0m\u001b[0;34m)\u001b[0m\u001b[0;34m,\u001b[0m \u001b[0mt\u001b[0m\u001b[0;34m)\u001b[0m \u001b[0;32mfor\u001b[0m \u001b[0mt\u001b[0m \u001b[0;32min\u001b[0m \u001b[0mtarget_utters\u001b[0m\u001b[0;34m]\u001b[0m\u001b[0;34m\u001b[0m\u001b[0;34m\u001b[0m\u001b[0m\n\u001b[0m\u001b[1;32m      6\u001b[0m     \u001b[0mutter_closest\u001b[0m \u001b[0;34m=\u001b[0m \u001b[0mmax\u001b[0m\u001b[0;34m(\u001b[0m\u001b[0mutter_dists\u001b[0m\u001b[0;34m,\u001b[0m \u001b[0mkey\u001b[0m\u001b[0;34m=\u001b[0m\u001b[0;32mlambda\u001b[0m \u001b[0mx\u001b[0m\u001b[0;34m:\u001b[0m\u001b[0mx\u001b[0m\u001b[0;34m[\u001b[0m\u001b[0;36m0\u001b[0m\u001b[0;34m]\u001b[0m\u001b[0;34m)\u001b[0m\u001b[0;34m[\u001b[0m\u001b[0;36m1\u001b[0m\u001b[0;34m]\u001b[0m \u001b[0;34m+\u001b[0m \u001b[0;34m' !'\u001b[0m\u001b[0;34m\u001b[0m\u001b[0;34m\u001b[0m\u001b[0m\n\u001b[1;32m      7\u001b[0m \u001b[0;34m\u001b[0m\u001b[0m\n",
      "\u001b[0;32m<ipython-input-29-57ccee8edc8c>\u001b[0m in \u001b[0;36m<listcomp>\u001b[0;34m(.0)\u001b[0m\n\u001b[1;32m      3\u001b[0m \u001b[0;32mdef\u001b[0m \u001b[0mclosest_loss\u001b[0m\u001b[0;34m(\u001b[0m\u001b[0mcleaned_pred\u001b[0m\u001b[0;34m,\u001b[0m \u001b[0mpred_logits\u001b[0m\u001b[0;34m,\u001b[0m \u001b[0mtarget_utters\u001b[0m\u001b[0;34m)\u001b[0m\u001b[0;34m:\u001b[0m\u001b[0;34m\u001b[0m\u001b[0;34m\u001b[0m\u001b[0m\n\u001b[1;32m      4\u001b[0m     \u001b[0;31m# get label\u001b[0m\u001b[0;34m\u001b[0m\u001b[0;34m\u001b[0m\u001b[0;34m\u001b[0m\u001b[0m\n\u001b[0;32m----> 5\u001b[0;31m     \u001b[0mutter_dists\u001b[0m \u001b[0;34m=\u001b[0m \u001b[0;34m[\u001b[0m\u001b[0;34m(\u001b[0m\u001b[0;34m-\u001b[0m\u001b[0medit_distance\u001b[0m\u001b[0;34m(\u001b[0m\u001b[0mt\u001b[0m\u001b[0;34m,\u001b[0m \u001b[0mcleaned_pred\u001b[0m\u001b[0;34m)\u001b[0m\u001b[0;34m,\u001b[0m \u001b[0mt\u001b[0m\u001b[0;34m)\u001b[0m \u001b[0;32mfor\u001b[0m \u001b[0mt\u001b[0m \u001b[0;32min\u001b[0m \u001b[0mtarget_utters\u001b[0m\u001b[0;34m]\u001b[0m\u001b[0;34m\u001b[0m\u001b[0;34m\u001b[0m\u001b[0m\n\u001b[0m\u001b[1;32m      6\u001b[0m     \u001b[0mutter_closest\u001b[0m \u001b[0;34m=\u001b[0m \u001b[0mmax\u001b[0m\u001b[0;34m(\u001b[0m\u001b[0mutter_dists\u001b[0m\u001b[0;34m,\u001b[0m \u001b[0mkey\u001b[0m\u001b[0;34m=\u001b[0m\u001b[0;32mlambda\u001b[0m \u001b[0mx\u001b[0m\u001b[0;34m:\u001b[0m\u001b[0mx\u001b[0m\u001b[0;34m[\u001b[0m\u001b[0;36m0\u001b[0m\u001b[0;34m]\u001b[0m\u001b[0;34m)\u001b[0m\u001b[0;34m[\u001b[0m\u001b[0;36m1\u001b[0m\u001b[0;34m]\u001b[0m \u001b[0;34m+\u001b[0m \u001b[0;34m' !'\u001b[0m\u001b[0;34m\u001b[0m\u001b[0;34m\u001b[0m\u001b[0m\n\u001b[1;32m      7\u001b[0m \u001b[0;34m\u001b[0m\u001b[0m\n",
      "\u001b[0;32m~/miniconda3/envs/domiknows/lib/python3.7/site-packages/nltk/metrics/distance.py\u001b[0m in \u001b[0;36medit_distance\u001b[0;34m(s1, s2, substitution_cost, transpositions)\u001b[0m\n\u001b[1;32m    107\u001b[0m             \u001b[0mlast_left\u001b[0m \u001b[0;34m=\u001b[0m \u001b[0mlast_left_t\u001b[0m\u001b[0;34m[\u001b[0m\u001b[0ms2\u001b[0m\u001b[0;34m[\u001b[0m\u001b[0mj\u001b[0m \u001b[0;34m-\u001b[0m \u001b[0;36m1\u001b[0m\u001b[0;34m]\u001b[0m\u001b[0;34m]\u001b[0m\u001b[0;34m\u001b[0m\u001b[0;34m\u001b[0m\u001b[0m\n\u001b[1;32m    108\u001b[0m             \u001b[0mlast_right\u001b[0m \u001b[0;34m=\u001b[0m \u001b[0mlast_right_buf\u001b[0m\u001b[0;34m\u001b[0m\u001b[0;34m\u001b[0m\u001b[0m\n\u001b[0;32m--> 109\u001b[0;31m             \u001b[0;32mif\u001b[0m \u001b[0ms1\u001b[0m\u001b[0;34m[\u001b[0m\u001b[0mi\u001b[0m \u001b[0;34m-\u001b[0m \u001b[0;36m1\u001b[0m\u001b[0;34m]\u001b[0m \u001b[0;34m==\u001b[0m \u001b[0ms2\u001b[0m\u001b[0;34m[\u001b[0m\u001b[0mj\u001b[0m \u001b[0;34m-\u001b[0m \u001b[0;36m1\u001b[0m\u001b[0;34m]\u001b[0m\u001b[0;34m:\u001b[0m\u001b[0;34m\u001b[0m\u001b[0;34m\u001b[0m\u001b[0m\n\u001b[0m\u001b[1;32m    110\u001b[0m                 \u001b[0mlast_right_buf\u001b[0m \u001b[0;34m=\u001b[0m \u001b[0mj\u001b[0m\u001b[0;34m\u001b[0m\u001b[0;34m\u001b[0m\u001b[0m\n\u001b[1;32m    111\u001b[0m             _edit_dist_step(\n",
      "\u001b[0;31mKeyboardInterrupt\u001b[0m: "
     ]
    }
   ],
   "source": [
    "import random\n",
    "from tqdm.auto import tqdm\n",
    "from IPython.display import clear_output\n",
    "\n",
    "stats = []\n",
    "\n",
    "for epoch_idx in range(1):\n",
    "    # training\n",
    "    random.shuffle(trainspl_sit_id)\n",
    "    pbar = tqdm(enumerate(trainspl_sit_id), total=len(trainspl_sit_id))\n",
    "    \n",
    "    print('force_p:', force_p_schedule(epoch_idx))\n",
    "    \n",
    "    for i, vals in enumerate(stats):\n",
    "        print(i, vals)\n",
    "    \n",
    "    avg_loss = 0.0\n",
    "    num_correct = 0\n",
    "    \n",
    "    for iter_idx, sit_id in pbar:\n",
    "        utter_ids = sid2uids[sit_id]\n",
    "        #print(sit_id, utter_ids)\n",
    "\n",
    "        target_utters = id_select(utter_ids, utterances)\n",
    "        \n",
    "        #tu = random.choice(target_utters) + ' !'\n",
    "        #tu = min(target_utters, key=lambda u:len(u)) + ' !'\n",
    "        #tu = max(target_utters, key=lambda u:len(u)) + ' !'\n",
    "        #tu_target = v.tokenize(tu)\n",
    "        #print(tu_target)\n",
    "\n",
    "        input_sit_str = '^ ' + id_select([sit_id], situations)[0] + ' !'\n",
    "        \n",
    "        if PRINT_GT:\n",
    "            print(input_sit_str)\n",
    "        # model forward\n",
    "        pred_ids, pred_logits = model_forward(input_sit_str, epoch_idx)\n",
    "        cleaned_pred = ' '.join(v2.decode(pred_ids)).replace('!', '').strip()\n",
    "        \n",
    "        #bleu = sentence_bleu([ref.split(' ') for ref in target_utters], v.decode(pred_ids))\n",
    "        \n",
    "        #edit_sim = train_edit_run(jaro_similarity(tu.replace('!', '').strip(), cleaned_pred))\n",
    "        \n",
    "        #print('loss: %.3f | \"%s\" | \"%s\"' % (loss.item()/len(pred_ids), cleaned_pred, tu.replace('!', '').strip()))\n",
    "        \n",
    "        loss, utter_closest = closest_loss(cleaned_pred, pred_logits, target_utters)\n",
    "        \n",
    "        avg_loss += loss.item()/len(pred_ids)\n",
    "        \n",
    "        plot.add(loss = train_loss_run(loss.item()/len(pred_ids)), accuracy = num_correct/(iter_idx + 1))\n",
    "        \n",
    "        if iter_idx % 500 == 0:\n",
    "            eta = ''\n",
    "            if pbar.format_dict['rate'] != None:\n",
    "                eta = (pbar.format_dict['total'] - iter_idx) / pbar.format_dict['rate']\n",
    "            plot.output_show(suptitle=(input_sit_str + \" | \" + cleaned_pred + \" | \" + utter_closest.replace('!', '').strip() + \" | \" + str(eta)),\n",
    "                             subplots=(2, 2),\n",
    "                             figsize=(15, 15))\n",
    "            #clear_output(wait=True)\n",
    "        \n",
    "        if cleaned_pred in target_utters:\n",
    "            #print('CORRECT')\n",
    "            num_correct += 1\n",
    "        else:\n",
    "            loss.backward()\n",
    "            opt_dec.step()\n",
    "            opt_enc.step()\n",
    "\n",
    "        #loss = is_correct(cleaned_pred, target_utters) * loss\n",
    "\n",
    "        opt_dec.zero_grad()\n",
    "        opt_enc.zero_grad()\n",
    "    \n",
    "        # validation\n",
    "        if iter_idx % 500 == 0:\n",
    "            avg_valid_loss = 0.0\n",
    "            avg_valid_correct = 0\n",
    "            avg_valid_edit = 0.0\n",
    "            avg_valid_comp = 0.0\n",
    "            \n",
    "            for iter_idx, sit_id in tqdm(enumerate(validspl_sit_id), total=len(validspl_sit_id)):\n",
    "                utter_ids = sid2uids[sit_id]\n",
    "\n",
    "                target_utters = id_select(utter_ids, utterances)\n",
    "\n",
    "                #tu = random.choice(target_utters) + ' !'\n",
    "                #tu = min(target_utters, key=lambda u:len(u)) + ' !'\n",
    "                #tu = max(target_utters, key=lambda u:len(u)) + ' !'\n",
    "                #tu_target = v.tokenize(tu)\n",
    "\n",
    "                input_sit_str = '^ ' + id_select([sit_id], situations)[0] + ' !'\n",
    "                \n",
    "                if PRINT_GT:\n",
    "                    print(input_sit_str)\n",
    "                \n",
    "                pred_ids, pred_logits = model_forward(input_sit_str, epoch_idx, grad=False)\n",
    "\n",
    "                cleaned_pred = ' '.join(v2.decode(pred_ids)).replace('!', '').strip()\n",
    "\n",
    "                #topk_preds = viterbi_predict_topk(input_sit_str, max_length=20, top_k=20)\n",
    "                #avg_valid_comp += check_completeness(input_sit_str, topk_preds, target_utters)\n",
    "\n",
    "                #bleu = sentence_bleu([ref.split(' ') for ref in target_utters], v.decode(pred_ids))\n",
    "\n",
    "                #avg_valid_edit += jaro_similarity(tu.replace('!', '').strip(), cleaned_pred)\n",
    "\n",
    "                loss, utter_closest = closest_loss(cleaned_pred, pred_logits, target_utters)\n",
    "                avg_valid_loss += loss.item()/len(pred_ids)\n",
    "\n",
    "                if cleaned_pred in target_utters:\n",
    "                    avg_valid_correct += 1\n",
    "\n",
    "            avg_valid_loss /= len(validspl_sit_id)\n",
    "            avg_valid_correct /= len(validspl_sit_id)\n",
    "            avg_valid_edit /= len(validspl_sit_id)\n",
    "            avg_valid_comp /= len(validspl_sit_id)\n",
    "\n",
    "            plot.add(valid_accuracy=avg_valid_correct, valid_loss=avg_valid_loss)\n"
   ]
  },
  {
   "cell_type": "code",
   "execution_count": null,
   "id": "e8649ac2",
   "metadata": {},
   "outputs": [],
   "source": [
    "assert False"
   ]
  },
  {
   "cell_type": "code",
   "execution_count": null,
   "id": "fb3e3372",
   "metadata": {},
   "outputs": [],
   "source": [
    "import json\n",
    "import os\n",
    "\n",
    "DIRECTORY = 'max_ln_fixlbl2_soseos_full_correct_if_3e-4'\n",
    "\n",
    "if not os.path.isdir(DIRECTORY):\n",
    "    os.mkdir(DIRECTORY)\n",
    "#else:\n",
    "#    raise Exception('Directory already exists')\n",
    "\n",
    "with open('%s/stats_1.json' % DIRECTORY, 'w') as file_out:\n",
    "    json.dump(plot.stats, file_out)\n",
    "\n",
    "with open('%s/out.txt' % DIRECTORY, 'w') as file_out:\n",
    "    for sit_id in random.choices(validspl_sit_id, k=100):\n",
    "        utter_ids = sid2uids[sit_id]\n",
    "\n",
    "        target_utters = id_select(utter_ids, utterances)\n",
    "\n",
    "        #tu = random.choice(target_utters) + ' !'\n",
    "        #tu = min(target_utters, key=lambda u:len(u)) + ' !'\n",
    "        tu = max(target_utters, key=lambda u:len(u)) + ' !'\n",
    "        tu_target = v2.tokenize(tu)\n",
    "\n",
    "        input_sit_str = '^ ' + id_select([sit_id], situations)[0] + ' !'\n",
    "\n",
    "        pred_ids, loss = model_forward(input_sit_str, epoch_idx, grad=False)\n",
    "\n",
    "        cleaned_pred = ' '.join(v2.decode(pred_ids)).replace('!', '').strip()\n",
    "\n",
    "        file_out.write('\\nTARGET: ' + tu.replace('!', '').strip() + '\\n')\n",
    "        file_out.write('PREDICTION: ' + cleaned_pred + '\\n')\n",
    "\n",
    "#torch.save(enc.state_dict(), '%s/enc.bin' % DIRECTORY)\n",
    "#torch.save(dec.state_dict(), '%s/dec.bin' % DIRECTORY)"
   ]
  },
  {
   "cell_type": "code",
   "execution_count": null,
   "id": "5c059f6f",
   "metadata": {},
   "outputs": [],
   "source": [
    "from top_k_viterbi import viterbi_decode\n",
    "\n",
    "def predict(input_sit_str, max_length=20):\n",
    "    input_sit = v1.tokenize(input_sit_str)\n",
    "\n",
    "    with torch.no_grad():\n",
    "        enc_out, enc_hidden = enc(input_sit)\n",
    "\n",
    "    pred_ids = []\n",
    "    pred_logits = []\n",
    "    \n",
    "    prev = start_id\n",
    "    h = enc_hidden\n",
    "    for i in range(max_length):\n",
    "        with torch.no_grad():\n",
    "            logits, h = dec(prev, enc_hidden, h, enc_out)\n",
    "\n",
    "        pred = torch.argmax(logits, dim=1)[0]\n",
    "        prev = pred\n",
    "        \n",
    "        pred_ids.append(pred)\n",
    "        pred_logits.append(logits)\n",
    "        \n",
    "        if pred == eos_id:\n",
    "            break\n",
    "            \n",
    "    pred_logits = torch.cat(pred_logits, dim=0)\n",
    "    \n",
    "    pred_probs = F.softmax(pred_logits, dim=1)\n",
    "    \n",
    "    return pred_probs\n",
    "\n",
    "def viterbi_predict_topk(input_sit_str, max_length=20, top_k=20):\n",
    "    probs = predict(situations[0][1])\n",
    "    num_tags = probs.shape[1]\n",
    "    \n",
    "    paths, _ = viterbi_decode(probs, torch.ones((num_tags, num_tags)), top_k=20)\n",
    "\n",
    "    preds = []\n",
    "    for p in paths:\n",
    "        preds.append(' '.join(v2.decode(p)).replace('!', '').strip())\n",
    "    \n",
    "    return preds\n",
    "\n",
    "def check_completeness(situation, model_sentences, utterances):\n",
    "    \"\"\"\n",
    "        This function check if the sentence is valid for the current situation\n",
    "    :param situation:\n",
    "    :param model_sentences: List of learner utterances for the current situation\n",
    "    :param situation_utterance_map:\n",
    "    :return:\n",
    "    \"\"\"\n",
    "\n",
    "    # Check if the model sentence is within the list of utterances\n",
    "    correct = 0\n",
    "    for sentence in utterances:\n",
    "        if sentence in model_sentences:\n",
    "            correct += 1\n",
    "\n",
    "    correct = correct / len(utterances) if len(utterances) > 0 else 0.0\n",
    "\n",
    "    return correct"
   ]
  }
 ],
 "metadata": {
  "kernelspec": {
   "display_name": "Python 3",
   "language": "python",
   "name": "python3"
  },
  "language_info": {
   "codemirror_mode": {
    "name": "ipython",
    "version": 3
   },
   "file_extension": ".py",
   "mimetype": "text/x-python",
   "name": "python",
   "nbconvert_exporter": "python",
   "pygments_lexer": "ipython3",
   "version": "3.7.11"
  }
 },
 "nbformat": 4,
 "nbformat_minor": 5
}
